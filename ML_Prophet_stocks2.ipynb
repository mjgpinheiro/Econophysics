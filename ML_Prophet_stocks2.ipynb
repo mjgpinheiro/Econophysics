{
  "nbformat": 4,
  "nbformat_minor": 0,
  "metadata": {
    "colab": {
      "provenance": [],
      "authorship_tag": "ABX9TyP4SApXfDl99tp8rJdMiUkF",
      "include_colab_link": true
    },
    "kernelspec": {
      "name": "python3",
      "display_name": "Python 3"
    },
    "language_info": {
      "name": "python"
    }
  },
  "cells": [
    {
      "cell_type": "markdown",
      "metadata": {
        "id": "view-in-github",
        "colab_type": "text"
      },
      "source": [
        "<a href=\"https://colab.research.google.com/github/mjgpinheiro/Econophysics/blob/main/ML_Prophet_stocks2.ipynb\" target=\"_parent\"><img src=\"https://colab.research.google.com/assets/colab-badge.svg\" alt=\"Open In Colab\"/></a>"
      ]
    },
    {
      "cell_type": "code",
      "execution_count": 6,
      "metadata": {
        "colab": {
          "base_uri": "https://localhost:8080/"
        },
        "id": "5bORLbeZ0Enb",
        "outputId": "cb11cdd5-bf02-402e-81d5-7526e25fbf2d"
      },
      "outputs": [
        {
          "output_type": "stream",
          "name": "stdout",
          "text": [
            "Looking in indexes: https://pypi.org/simple, https://us-python.pkg.dev/colab-wheels/public/simple/\n",
            "Requirement already satisfied: ta in /usr/local/lib/python3.9/dist-packages (0.10.2)\n",
            "Requirement already satisfied: numpy in /usr/local/lib/python3.9/dist-packages (from ta) (1.22.4)\n",
            "Requirement already satisfied: pandas in /usr/local/lib/python3.9/dist-packages (from ta) (1.4.4)\n",
            "Requirement already satisfied: pytz>=2020.1 in /usr/local/lib/python3.9/dist-packages (from pandas->ta) (2022.7.1)\n",
            "Requirement already satisfied: python-dateutil>=2.8.1 in /usr/local/lib/python3.9/dist-packages (from pandas->ta) (2.8.2)\n",
            "Requirement already satisfied: six>=1.5 in /usr/local/lib/python3.9/dist-packages (from python-dateutil>=2.8.1->pandas->ta) (1.16.0)\n",
            "[*********************100%***********************]  1 of 1 completed\n"
          ]
        }
      ],
      "source": [
        "!pip install ta\n",
        "import yfinance as yf\n",
        "import numpy as np\n",
        "import matplotlib.pyplot as plt\n",
        "from sklearn.preprocessing import StandardScaler\n",
        "from sklearn.model_selection import GridSearchCV\n",
        "from keras.models import Sequential\n",
        "from keras.layers import LSTM, Dense\n",
        "from sklearn.experimental import enable_hist_gradient_boosting\n",
        "from sklearn.ensemble import HistGradientBoostingRegressor\n",
        "import ta\n",
        "from prophet import Prophet\n",
        "from sklearn.impute import SimpleImputer\n",
        "from sklearn.linear_model import Lasso\n",
        "\n",
        "\n",
        "# Download data\n",
        "data = yf.download('AAPL', start='2016-01-01', end='2023-03-26')\n",
        "if data.empty:\n",
        "    raise ValueError(\"No data found for the specified dates.\")\n",
        "prices = data['Close'].to_numpy()\n",
        "\n",
        "# Add technical indicators\n",
        "rsi = ta.momentum.RSIIndicator(data['Close'], window=14)\n",
        "data['RSI'] = rsi.rsi()\n",
        "\n",
        "stoch = ta.momentum.StochasticOscillator(high=data['High'], low=data['Low'], close=data['Close'], window=14, smooth_window=3)\n",
        "data['%K'] = stoch.stoch()\n",
        "\n",
        "\n",
        "def predict(prices):\n",
        "    # Split data into training and testing sets\n",
        "    train_prices = prices[:-365]\n",
        "    test_prices = prices[-365:]\n",
        "    if len(train_prices) < 5:\n",
        "        return [\"hold\"] * len(test_prices), 0\n",
        "    print(train_prices,test_prices)\n",
        "\n",
        "    # Scale the data\n",
        "    scaler = StandardScaler()\n",
        "    X_train = scaler.fit_transform(train_prices.reshape(-1, 1))\n",
        "\n",
        "    # Add RSI and Stochastic Oscillator to training data\n",
        "    train_rsi = data['RSI'][:-365].to_numpy().reshape(-1, 1)\n",
        "    train_k_percent = data['%K'][:-365].to_numpy().reshape(-1, 1)\n",
        "    X_train = np.concatenate((X_train, train_rsi, train_k_percent), axis=1)\n",
        "\n",
        "    # Use grid search to find the best hyperparameters\n",
        "    if len(train_prices) >= 5:\n",
        "        param_grid = {'alpha': [0.001, 0.01, 0.1, 1, 10]}\n",
        "        # Impute missing values with the mean\n",
        "        imputer = SimpleImputer(strategy='mean')\n",
        "        X_train = imputer.fit_transform(X_train)\n",
        "\n",
        "        grid_search = GridSearchCV(Lasso(), param_grid, cv=5)\n",
        "        grid_search.fit(X_train[:-1], X_train[1:])\n",
        "        best_alpha = grid_search.best_params_['alpha']\n",
        "    else:\n",
        "        best_alpha = 0.001\n",
        "\n",
        "    # Train the model\n",
        "    model = Sequential()\n",
        "    model.add(LSTM(128, input_shape=(1, 3)))\n",
        "    model.add(Dense(1))\n",
        "    model.compile(loss='mean_squared_error', optimizer='adam')\n",
        "    model.fit(X_train[:-1].reshape(-1, 1, 3), X_train[1:], epochs=50, batch_size=1, verbose=0)\n",
        "\n",
        "# Make prediction with LSTM model\n",
        "    X_test = scaler.transform(test_prices.reshape(-1, 1))\n",
        "    test_rsi = data['RSI'][-365:].to_numpy().reshape(-1, 1)\n",
        "    test_k_percent = data['%K'][-365:].to_numpy().reshape(-1, 1)\n",
        "    X_test = np.concatenate((X_test, test_rsi, test_k_percent), axis=1)\n",
        "    y_pred = model.predict(X_test.reshape(-1, 1, 3))\n",
        "    y_pred = scaler.inverse_transform(y_pred).flatten()\n",
        "\n",
        "    daily_returns = np.diff(prices[-365:]) / prices[-365:-1]\n",
        "    strategy_returns = np.diff(y_pred) / prices[-365:-1]\n",
        "\n",
        "# Calculate benchmark return\n",
        "    benchmark_prices = data['Open'].to_numpy()[-365:]\n",
        "    benchmark_returns = np.diff(benchmark_prices) / benchmark_prices[:-1]\n",
        "    benchmark_avg_return = np.mean(benchmark_returns)\n",
        "\n",
        "# Print average return and Sharpe ratio for strategy and benchmark\n",
        "    print(\"Average daily return (strategy):\", np.mean(strategy_returns))\n",
        "    print(\"Sharpe ratio (strategy):\", np.sqrt(365) * np.mean(strategy_returns - daily_returns) / np.std(strategy_returns - daily_returns))\n",
        "    print(\"Average daily return (benchmark):\", benchmark_avg_return)\n",
        "    print(\"Sharpe ratio (benchmark):\", np.sqrt(365) * np.mean(benchmark_returns - daily_returns) / np.std(benchmark_returns - daily_returns))\n",
        "\n",
        "# Plot actual and predicted prices\n",
        "    plt.plot(prices[-365:], label='Actual')\n",
        "    plt.plot(y_pred, label='Predicted')\n",
        "    plt.plot(benchmark_prices, label='Benchmark')\n",
        "    plt.legend()\n",
        "    plt.show()\n"
      ]
    }
  ]
}