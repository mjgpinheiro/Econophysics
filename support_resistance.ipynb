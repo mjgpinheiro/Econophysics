{
  "nbformat": 4,
  "nbformat_minor": 0,
  "metadata": {
    "colab": {
      "provenance": [],
      "authorship_tag": "ABX9TyP93YBtLKs4cLHM+YlE83Aj",
      "include_colab_link": true
    },
    "kernelspec": {
      "name": "python3",
      "display_name": "Python 3"
    },
    "language_info": {
      "name": "python"
    }
  },
  "cells": [
    {
      "cell_type": "markdown",
      "metadata": {
        "id": "view-in-github",
        "colab_type": "text"
      },
      "source": [
        "<a href=\"https://colab.research.google.com/github/mjgpinheiro/Econophysics/blob/main/support_resistance.ipynb\" target=\"_parent\"><img src=\"https://colab.research.google.com/assets/colab-badge.svg\" alt=\"Open In Colab\"/></a>"
      ]
    },
    {
      "cell_type": "code",
      "execution_count": 6,
      "metadata": {
        "colab": {
          "base_uri": "https://localhost:8080/"
        },
        "id": "C8hmM68FnxWY",
        "outputId": "608d51a2-0583-419e-c060-253787b77bd3"
      },
      "outputs": [
        {
          "output_type": "stream",
          "name": "stdout",
          "text": [
            "[*********************100%***********************]  1 of 1 completed\n",
            "[*********************100%***********************]  1 of 1 completed\n",
            "Predicted outcome for AAPL stock price: Sell\n"
          ]
        }
      ],
      "source": [
        "# Import necessary libraries\n",
        "import numpy as np\n",
        "\n",
        "# Load AAPL stock data\n",
        "import yfinance as yf\n",
        "data = yf.download('AAPL', start='2019-01-01', end='2023-03-26')\n",
        "prices = data['Close'].to_numpy()\n",
        "\n",
        "# Calculate support and resistance levels\n",
        "n_days = len(prices)\n",
        "pct_change = (prices[1:] - prices[:-1])/prices[:-1]\n",
        "avg_change = np.mean(pct_change)\n",
        "std_change = np.std(pct_change)\n",
        "s1 = prices[-1] - 2*std_change*prices[-1]\n",
        "s2 = prices[-1] - std_change*prices[-1]\n",
        "s3 = prices[-1] - avg_change*prices[-1]\n",
        "r1 = prices[-1] + 2*std_change*prices[-1]\n",
        "r2 = prices[-1] + std_change*prices[-1]\n",
        "r3 = prices[-1] + avg_change*prices[-1]\n",
        "\n",
        "# Define function to predict buy or sell outcome\n",
        "def predict(prices):\n",
        "    if prices[-1] < s1:\n",
        "        return 'Buy'\n",
        "    elif s1 <= prices[-1] < s2:\n",
        "        return 'Buy'\n",
        "    elif s2 <= prices[-1] < s3:\n",
        "        return 'Hold'\n",
        "    elif s3 <= prices[-1] < r3:\n",
        "        return 'Hold'\n",
        "    elif r3 <= prices[-1] < r2:\n",
        "        return 'Sell'\n",
        "    elif r2 <= prices[-1] < r1:\n",
        "        return 'Sell'\n",
        "    else:\n",
        "        return 'Sell'\n",
        "\n",
        "# Predict buy or sell outcome for AAPL stock price over the past week\n",
        "data = yf.download('AAPL', start='2022-03-16', end='2022-03-23')\n",
        "prices = data['Close'].to_numpy()\n",
        "outcome = predict(prices)\n",
        "print(f'Predicted outcome for AAPL stock price: {outcome}')\n",
        "\n",
        "\n"
      ]
    }
  ]
}