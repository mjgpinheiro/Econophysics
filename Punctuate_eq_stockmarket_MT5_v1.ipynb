{
  "nbformat": 4,
  "nbformat_minor": 0,
  "metadata": {
    "colab": {
      "provenance": [],
      "authorship_tag": "ABX9TyNW5jjIoM7F8wjPK+F0KaZ4",
      "include_colab_link": true
    },
    "kernelspec": {
      "name": "python3",
      "display_name": "Python 3"
    },
    "language_info": {
      "name": "python"
    }
  },
  "cells": [
    {
      "cell_type": "markdown",
      "metadata": {
        "id": "view-in-github",
        "colab_type": "text"
      },
      "source": [
        "<a href=\"https://colab.research.google.com/github/mjgpinheiro/Econophysics/blob/main/Punctuate_eq_stockmarket_MT5_v1.ipynb\" target=\"_parent\"><img src=\"https://colab.research.google.com/assets/colab-badge.svg\" alt=\"Open In Colab\"/></a>"
      ]
    },
    {
      "cell_type": "code",
      "execution_count": null,
      "metadata": {
        "id": "h_XfhnGkgkxM"
      },
      "outputs": [],
      "source": [
        "import xmapi  # import the XMTradingAPI library\n",
        "import pandas as pd\n",
        "import numpy as np\n",
        "import MetaTrader5 as mt5\n",
        "\n",
        "# Connect to XM broker API\n",
        "api_key = 'your_api_key_here'\n",
        "api_secret = 'your_api_secret_here'\n",
        "api = xmapi.XMTradingAPI(api_key, api_secret)\n",
        "\n",
        "# Define parameters\n",
        "symbol = 'US100'\n",
        "lot_size = 0.1\n",
        "stop_loss = 0.01\n",
        "take_profit = 0.02\n",
        "threshold = 0.5\n",
        "\n",
        "# Connect to MT5 platform and load historical data\n",
        "mt5.initialize()\n",
        "nasdaq_data = pd.DataFrame(mt5.copy_rates_from_pos(symbol, mt5.TIMEFRAME_D1, 0, 1000))\n",
        "nasdaq_data.drop(columns=['spread', 'real_volume'], inplace=True)\n",
        "nasdaq_data['date'] = pd.to_datetime(nasdaq_data['time'], unit='s')\n",
        "nasdaq_data.set_index('date', inplace=True)\n",
        "\n",
        "# Define function to execute trades\n",
        "def trade(strategy):\n",
        "    current_position = api.get_position(symbol)\n",
        "    if strategy == 'buy':\n",
        "        if current_position is None:\n",
        "            api.create_market_buy_order(symbol, lot_size, stop_loss, take_profit)\n",
        "        elif current_position.type == 'sell':\n",
        "            api.close_position(symbol)\n",
        "            api.create_market_buy_order(symbol, lot_size, stop_loss, take_profit)\n",
        "    elif strategy == 'sell':\n",
        "        if current_position is None:\n",
        "            api.create_market_sell_order(symbol, lot_size, stop_loss, take_profit)\n",
        "        elif current_position.type == 'buy':\n",
        "            api.close_position(symbol)\n",
        "            api.create_market_sell_order(symbol, lot_size, stop_loss, take_profit)\n",
        "\n",
        "# Calculate moving average and stability\n",
        "nasdaq_data['ma200'] = nasdaq_data['close'].rolling(window=200).mean()\n",
        "nasdaq_data['diff'] = nasdaq_data['close'] - nasdaq_data['ma200']\n",
        "nasdaq_data['std'] = nasdaq_data['diff'].rolling(window=20).std()\n",
        "nasdaq_data['stable'] = np.where(nasdaq_data['std'] < threshold, True, False)\n",
        "\n",
        "# Iterate over each day and execute trades according to strategy\n",
        "for i in range(1, len(nasdaq_data)):\n",
        "    prev_ma200 = nasdaq_data.iloc[i-1]['ma200']\n",
        "    curr_ma200 = nasdaq_data.iloc[i]['ma200']\n",
        "    prev_stable = nasdaq_data.iloc[i-1]['stable']\n",
        "    curr_stable = nasdaq_data.iloc[i]['stable']\n",
        "    prev_close = nasdaq_data.iloc[i-1]['close']\n",
        "    curr_close = nasdaq_data.iloc[i]['close']\n",
        "    \n",
        "    # Determine current strategy based on moving average and stability\n",
        "    if prev_close < prev_ma200 and curr_close > curr_ma200 and curr_stable:\n",
        "        strategy = 'buy'\n",
        "    elif prev_close > prev_ma200 and curr_close < curr_ma200 and curr_stable:\n",
        "        strategy = 'sell'\n",
        "    else:\n",
        "        strategy = None\n",
        "        \n",
        "    # Execute trade if strategy is not None\n",
        "    if strategy is not None:\n",
        "        trade(strategy)\n",
        "        \n",
        "# Disconnect from XM broker API and MT5\n",
        "api.logout()\n",
        "mt5.shutdown()\n"
      ]
    }
  ]
}