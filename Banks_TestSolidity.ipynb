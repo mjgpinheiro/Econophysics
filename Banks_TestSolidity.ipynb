{
  "nbformat": 4,
  "nbformat_minor": 0,
  "metadata": {
    "colab": {
      "provenance": [],
      "authorship_tag": "ABX9TyNbfzewRdRIatUKELA6FxPe",
      "include_colab_link": true
    },
    "kernelspec": {
      "name": "python3",
      "display_name": "Python 3"
    },
    "language_info": {
      "name": "python"
    }
  },
  "cells": [
    {
      "cell_type": "markdown",
      "metadata": {
        "id": "view-in-github",
        "colab_type": "text"
      },
      "source": [
        "<a href=\"https://colab.research.google.com/github/mjgpinheiro/Econophysics/blob/main/Banks_TestSolidity.ipynb\" target=\"_parent\"><img src=\"https://colab.research.google.com/assets/colab-badge.svg\" alt=\"Open In Colab\"/></a>"
      ]
    },
    {
      "cell_type": "code",
      "execution_count": null,
      "metadata": {
        "id": "LZzI-CcDF8vH"
      },
      "outputs": [],
      "source": [
        "# import libraries\n",
        "import pandas as pd\n",
        "import numpy as np\n",
        "import matplotlib.pyplot as plt\n",
        "\n",
        "# Replace \"file_path.csv\" with the actual path to your CSV file\n",
        "#df = pd.read_csv(\"file_path.csv\")\n",
        "\n",
        "# read financial statements data\n",
        "income_statement = pd.read_csv('income_statement.csv')\n",
        "balance_sheet = pd.read_csv('balance_sheet.csv')\n",
        "cash_flow_statement = pd.read_csv('cash_flow_statement.csv')\n",
        "\n",
        "# calculate financial ratios\n",
        "# liquidity ratios\n",
        "current_ratio = balance_sheet['Current Assets'] / balance_sheet['Current Liabilities']\n",
        "quick_ratio = (balance_sheet['Current Assets'] - balance_sheet['Inventory']) / balance_sheet['Current Liabilities']\n",
        "cash_ratio = balance_sheet['Cash'] / balance_sheet['Current Liabilities']\n",
        "\n",
        "# leverage ratios\n",
        "debt_to_equity = balance_sheet['Total Liabilities'] / balance_sheet['Total Equity']\n",
        "debt_to_assets = balance_sheet['Total Liabilities'] / balance_sheet['Total Assets']\n",
        "interest_coverage = income_statement['EBIT'] / income_statement['Interest Expense']\n",
        "\n",
        "# profitability ratios\n",
        "gross_profit_margin = income_statement['Gross Profit'] / income_statement['Revenue']\n",
        "operating_profit_margin = income_statement['Operating Profit'] / income_statement['Revenue']\n",
        "net_profit_margin = income_statement['Net Profit'] / income_statement['Revenue']\n",
        "return_on_assets = income_statement['Net Profit'] / balance_sheet['Total Assets']\n",
        "return_on_equity = income_statement['Net Profit'] / balance_sheet['Total Equity']\n",
        "\n",
        "# plot financial ratios over time\n",
        "plt.plot(balance_sheet['Year'], current_ratio, label='Current Ratio')\n",
        "plt.plot(balance_sheet['Year'], quick_ratio, label='Quick Ratio')\n",
        "plt.plot(balance_sheet['Year'], cash_ratio, label='Cash Ratio')\n",
        "plt.plot(balance_sheet['Year'], debt_to_equity, label='Debt to Equity')\n",
        "plt.plot(balance_sheet['Year'], debt_to_assets, label='Debt to Assets')\n",
        "plt.plot(income_statement['Year'], interest_coverage, label='Interest Coverage')\n",
        "plt.plot(income_statement['Year'], gross_profit_margin, label='Gross Profit Margin')\n",
        "plt.plot(income_statement['Year'], operating_profit_margin, label='Operating Profit Margin')\n",
        "plt.plot(income_statement['Year'], net_profit_margin, label='Net Profit Margin')\n",
        "plt.plot(income_statement['Year'], return_on_assets, label='Return on Assets')\n",
        "plt.plot(income_statement['Year'], return_on_equity, label='Return on Equity')\n",
        "plt.legend()\n",
        "plt.xlabel('Year')\n",
        "plt.ylabel('Ratio')\n",
        "plt.title('Financial Ratios Over Time')\n",
        "plt.show()\n",
        "\n",
        "# calculate Altman Z-score\n",
        "z_score = 1.2 * (working_capital / total_assets) + 1.4 * (retained_earnings / total_assets) + 3.3 * (earnings_before_interest_and_tax / total_assets) + 0.6 * (market_value_of_equity / total_liabilities) + 1.0 * (sales / total_assets)\n",
        "if z_score < 1.81:\n",
        "    print(\"The bank is likely to be bankrupt.\")\n",
        "else:\n",
        "    print(\"The bank is unlikely to be bankrupt.\")\n"
      ]
    }
  ]
}