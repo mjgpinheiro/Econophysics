{
  "nbformat": 4,
  "nbformat_minor": 0,
  "metadata": {
    "colab": {
      "provenance": [],
      "authorship_tag": "ABX9TyOBHges8yoHpgKfxh83fT07",
      "include_colab_link": true
    },
    "kernelspec": {
      "name": "python3",
      "display_name": "Python 3"
    },
    "language_info": {
      "name": "python"
    }
  },
  "cells": [
    {
      "cell_type": "markdown",
      "metadata": {
        "id": "view-in-github",
        "colab_type": "text"
      },
      "source": [
        "<a href=\"https://colab.research.google.com/github/mjgpinheiro/Econophysics/blob/main/Ergontropic_stocktrading2.ipynb\" target=\"_parent\"><img src=\"https://colab.research.google.com/assets/colab-badge.svg\" alt=\"Open In Colab\"/></a>"
      ]
    },
    {
      "cell_type": "code",
      "execution_count": null,
      "metadata": {
        "id": "RpnqflmIQjK8"
      },
      "outputs": [],
      "source": [
        "import yfinance as yf\n",
        "import numpy as np\n",
        "import pandas as pd\n",
        "import datetime as dt\n",
        "from sklearn.preprocessing import StandardScaler\n",
        "from sklearn.linear_model import LogisticRegression\n",
        "\n",
        "# Define function to calculate entropy\n",
        "def entropy(x):\n",
        "    return -np.sum(x * np.log(x))\n",
        "\n",
        "# Load historical data\n",
        "#ticker = \"AAPL\"\n",
        "#ticker = \"GOOGL\"\n",
        "#ticker = \"MSFT\"\n",
        "ticker = \"INTC\"\n",
        "\n",
        "start_date = dt.datetime.now() - dt.timedelta(days=365)\n",
        "end_date = dt.datetime.now()\n",
        "data = yf.download(ticker, start=start_date, end=end_date)\n",
        "\n",
        "# Define features\n",
        "data[\"returns\"] = np.log(data[\"Adj Close\"]) - np.log(data[\"Adj Close\"].shift(1))\n",
        "data[\"volatility\"] = data[\"returns\"].rolling(window=20).std()\n",
        "data[\"momentum\"] = data[\"returns\"].rolling(window=10).sum()\n",
        "data.dropna(inplace=True)\n",
        "\n",
        "# Normalize features\n",
        "scaler = StandardScaler()\n",
        "features = scaler.fit_transform(data[[\"volatility\", \"momentum\"]])\n",
        "\n",
        "# Train logistic regression model\n",
        "target = np.where(data[\"returns\"].shift(-1) > 0, 1, 0)\n",
        "model = LogisticRegression(random_state=0).fit(features, target)\n",
        "\n",
        "# Calculate probability of positive return\n",
        "prob = model.predict_proba(features)[:, 1]\n",
        "\n",
        "# Calculate entropy of probability distribution\n",
        "ent = entropy(prob)\n",
        "\n",
        "# Calculate energy of system\n",
        "energy = np.sum(features ** 2)\n",
        "\n",
        "# Make decision to buy or sell based on energy and entropy\n",
        "if energy > 0.5 and ent > 0.5:\n",
        "    print(\"Buy\", ticker)\n",
        "elif energy < 0.5 and ent < 0.5:\n",
        "    print(\"Sell\", ticker)\n",
        "else:\n",
        "    print(\"Hold\", ticker)\n"
      ]
    }
  ]
}