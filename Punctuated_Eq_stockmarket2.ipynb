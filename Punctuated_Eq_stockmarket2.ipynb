{
  "nbformat": 4,
  "nbformat_minor": 0,
  "metadata": {
    "colab": {
      "provenance": [],
      "authorship_tag": "ABX9TyNqlEy9dyUuAki7BOnuismF",
      "include_colab_link": true
    },
    "kernelspec": {
      "name": "python3",
      "display_name": "Python 3"
    },
    "language_info": {
      "name": "python"
    }
  },
  "cells": [
    {
      "cell_type": "markdown",
      "metadata": {
        "id": "view-in-github",
        "colab_type": "text"
      },
      "source": [
        "<a href=\"https://colab.research.google.com/github/mjgpinheiro/Econophysics/blob/main/Punctuated_Eq_stockmarket2.ipynb\" target=\"_parent\"><img src=\"https://colab.research.google.com/assets/colab-badge.svg\" alt=\"Open In Colab\"/></a>"
      ]
    },
    {
      "cell_type": "code",
      "execution_count": null,
      "metadata": {
        "id": "k7tDxab4ec3L"
      },
      "outputs": [],
      "source": [
        "import pandas as pd\n",
        "import numpy as np\n",
        "import matplotlib.pyplot as plt\n",
        "import pandas_datareader as pdr\n",
        "\n",
        "# Load NASDAQ data from Yahoo Finance\n",
        "start_date = '2010-01-01'\n",
        "end_date = '2021-09-30'\n",
        "nasdaq_data = pdr.get_data_yahoo('^IXIC', start=start_date, end=end_date)\n",
        "\n",
        "# Calculate daily returns and moving averages\n",
        "nasdaq_data['daily_return'] = nasdaq_data['Adj Close'].pct_change()\n",
        "nasdaq_data['ma50'] = nasdaq_data['Adj Close'].rolling(window=50).mean()\n",
        "nasdaq_data['ma200'] = nasdaq_data['Adj Close'].rolling(window=200).mean()\n",
        "\n",
        "# Define threshold for stable periods\n",
        "threshold = 0.005\n",
        "\n",
        "# Identify stable and unstable periods\n",
        "nasdaq_data['stable'] = np.abs(nasdaq_data['daily_return']) <= threshold\n",
        "nasdaq_data['unstable'] = np.abs(nasdaq_data['daily_return']) > threshold\n",
        "\n",
        "# Plot daily returns and stable/unstable periods\n",
        "fig, ax = plt.subplots(figsize=(12, 6))\n",
        "ax.plot(nasdaq_data.index, nasdaq_data['daily_return'], label='Daily Returns', alpha=0.5)\n",
        "ax.scatter(nasdaq_data[nasdaq_data['stable']].index, nasdaq_data[nasdaq_data['stable']]['daily_return'], label='Stable', marker='o', color='green')\n",
        "ax.scatter(nasdaq_data[nasdaq_data['unstable']].index, nasdaq_data[nasdaq_data['unstable']]['daily_return'], label='Unstable', marker='o', color='red')\n",
        "ax.legend()\n",
        "plt.show()\n",
        "\n",
        "# Calculate average daily return during stable and unstable periods\n",
        "stable_return = nasdaq_data[nasdaq_data['stable']]['daily_return'].mean()\n",
        "unstable_return = nasdaq_data[nasdaq_data['unstable']]['daily_return'].mean()\n",
        "\n",
        "print(f'Average daily return during stable periods: {stable_return:.4f}')\n",
        "print(f'Average daily return during unstable periods: {unstable_return:.4f}')\n",
        "\n",
        "# Calculate volatility during stable and unstable periods\n",
        "stable_volatility = nasdaq_data[nasdaq_data['stable']]['daily_return'].std()\n",
        "unstable_volatility = nasdaq_data[nasdaq_data['unstable']]['daily_return'].std()\n",
        "\n",
        "print(f'Volatility during stable periods: {stable_volatility:.4f}')\n",
        "print(f'Volatility during unstable periods: {unstable_volatility:.4f}')\n",
        "\n",
        "# Look for correlations with moving averages\n",
        "stable_ma50_corr = nasdaq_data[nasdaq_data['stable']]['daily_return'].corr(nasdaq_data[nasdaq_data['stable']]['ma50'])\n",
        "unstable_ma50_corr = nasdaq_data[nasdaq_data['unstable']]['daily_return'].corr(nasdaq_data[nasdaq_data['unstable']]['ma50'])\n",
        "stable_ma200_corr = nasdaq_data[nasdaq_data['stable']]['daily_return'].corr(nasdaq_data[nasdaq_data['stable']]['ma200'])\n",
        "unstable_ma200_corr = nasdaq_data[nasdaq_data['unstable']]['daily_return'].corr(nasdaq_data[nasdaq_data['unstable']]['ma200'])\n",
        "\n",
        "print(f'Correlation between daily returns and 50-day moving average during stable periods: {stable_ma50_corr:.4f}')\n",
        "print(f'Correlation between daily returns and 50-day moving average during unstable periods: {unstable_ma50_corr:.4f}')\n",
        "print(f'Correlation between daily returns and 200-day moving average during stable periods: {stable_ma200_corr:.4f}')\n",
        "print(f'Correlation between daily returns and 200-day moving average during unstable periods: {unstable_ma200_corr:.4f}')\n",
        "\n",
        "\n"
      ]
    }
  ]
}