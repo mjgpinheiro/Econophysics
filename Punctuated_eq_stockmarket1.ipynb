{
  "nbformat": 4,
  "nbformat_minor": 0,
  "metadata": {
    "colab": {
      "provenance": [],
      "authorship_tag": "ABX9TyNVQxvKYrWXk6hlRGFJGD51",
      "include_colab_link": true
    },
    "kernelspec": {
      "name": "python3",
      "display_name": "Python 3"
    },
    "language_info": {
      "name": "python"
    }
  },
  "cells": [
    {
      "cell_type": "markdown",
      "metadata": {
        "id": "view-in-github",
        "colab_type": "text"
      },
      "source": [
        "<a href=\"https://colab.research.google.com/github/mjgpinheiro/Econophysics/blob/main/Punctuated_eq_stockmarket1.ipynb\" target=\"_parent\"><img src=\"https://colab.research.google.com/assets/colab-badge.svg\" alt=\"Open In Colab\"/></a>"
      ]
    },
    {
      "cell_type": "code",
      "execution_count": null,
      "metadata": {
        "id": "qaFO83VXcsjp"
      },
      "outputs": [],
      "source": [
        "# Import libraries: Begin by importing the necessary libraries for data manipulation and analysis, such as pandas, numpy, and matplotlib.\n",
        "import pandas as pd\n",
        "import numpy as np\n",
        "import matplotlib.pyplot as plt"
      ]
    },
    {
      "cell_type": "code",
      "source": [
        "# Load and preprocess data: Next, load the stock market data into a pandas DataFrame, and preprocess it as needed (e.g., removing missing values, calculating indicators, etc.). \n",
        "# In this example, we will use the pandas_datareader library to load historical NASDAQ data from Yahoo Finance.\n",
        "import pandas_datareader as pdr\n",
        "\n",
        "start_date = '2010-01-01'\n",
        "end_date = '2021-09-30'\n",
        "\n",
        "nasdaq_data = pdr.get_data_yahoo('^IXIC', start=start_date, end=end_date)\n",
        "\n",
        "# Calculate daily returns and moving averages\n",
        "nasdaq_data['daily_return'] = nasdaq_data['Adj Close'].pct_change()\n",
        "nasdaq_data['ma50'] = nasdaq_data['Adj Close'].rolling(window=50).mean()\n",
        "nasdaq_data['ma200'] = nasdaq_data['Adj Close'].rolling(window=200).mean()\n",
        "\n",
        "# Remove missing values\n",
        "nasdaq_data.dropna(inplace=True)\n"
      ],
      "metadata": {
        "id": "YVcPwNPYcxlc"
      },
      "execution_count": null,
      "outputs": []
    },
    {
      "cell_type": "code",
      "source": [
        "# Identify stable and unstable periods: To apply punctuated equilibrium theory, we need to identify stable and unstable periods in the stock market data. In this example, we will define stable periods as those where the daily return is within a certain threshold \n",
        "# (e.g., +/- 0.5%), and unstable periods as those where the daily return exceeds this threshold.\n",
        "# Define threshold for stable periods\n",
        "threshold = 0.005\n",
        "\n",
        "# Identify stable and unstable periods\n",
        "nasdaq_data['stable'] = np.abs(nasdaq_data['daily_return']) <= threshold\n",
        "nasdaq_data['unstable'] = np.abs(nasdaq_data['daily_return']) > threshold\n"
      ],
      "metadata": {
        "id": "RKmy1ydSdAtU"
      },
      "execution_count": null,
      "outputs": []
    },
    {
      "cell_type": "code",
      "source": [
        "# Plot stable and unstable periods: To visualize the stable and unstable periods, we can plot the daily returns along with the stable and unstable flags.\n",
        "# Plot daily returns and stable/unstable periods\n",
        "fig, ax = plt.subplots(figsize=(12, 6))\n",
        "ax.plot(nasdaq_data.index, nasdaq_data['daily_return'], label='Daily Returns', alpha=0.5)\n",
        "ax.scatter(nasdaq_data[nasdaq_data['stable']].index, nasdaq_data[nasdaq_data['stable']]['daily_return'], label='Stable', marker='o', color='green')\n",
        "ax.scatter(nasdaq_data[nasdaq_data['unstable']].index, nasdaq_data[nasdaq_data['unstable']]['daily_return'], label='Unstable', marker='o', color='red')\n",
        "ax.legend()\n",
        "plt.show()\n"
      ],
      "metadata": {
        "id": "B3SYKHJedOXH"
      },
      "execution_count": null,
      "outputs": []
    },
    {
      "cell_type": "code",
      "source": [
        "# Analyze stable and unstable periods: Finally, we can analyze the stable and unstable periods to identify any patterns or trends. For example, we might calculate the average daily return and volatility during stable and unstable periods, \n",
        "# or look for correlations with other indicators such as moving averages.\n",
        "# Calculate average daily return during stable and unstable periods\n",
        "stable_return = nasdaq_data[nasdaq_data['stable']]['daily_return'].mean()\n",
        "unstable_return = nasdaq_data[nasdaq_data['unstable']]['daily_return'].mean()\n",
        "\n",
        "print(f'Average daily return during stable periods: {stable_return:.4f}')\n",
        "print(f'Average daily return during unstable periods: {unstable_return:.4f}')\n"
      ],
      "metadata": {
        "id": "rO3RMNnzdXE3"
      },
      "execution_count": null,
      "outputs": []
    }
  ]
}