{
  "nbformat": 4,
  "nbformat_minor": 0,
  "metadata": {
    "colab": {
      "provenance": [],
      "authorship_tag": "ABX9TyOAfuTsIoAegVVuNgjgsID7",
      "include_colab_link": true
    },
    "kernelspec": {
      "name": "python3",
      "display_name": "Python 3"
    },
    "language_info": {
      "name": "python"
    }
  },
  "cells": [
    {
      "cell_type": "markdown",
      "metadata": {
        "id": "view-in-github",
        "colab_type": "text"
      },
      "source": [
        "<a href=\"https://colab.research.google.com/github/mjgpinheiro/Econophysics/blob/main/Ergontropic_stocktrading3.ipynb\" target=\"_parent\"><img src=\"https://colab.research.google.com/assets/colab-badge.svg\" alt=\"Open In Colab\"/></a>"
      ]
    },
    {
      "cell_type": "code",
      "execution_count": null,
      "metadata": {
        "id": "NY_u8palU5pS"
      },
      "outputs": [],
      "source": [
        "# Import necessary libraries\n",
        "import pandas as pd\n",
        "import numpy as np\n",
        "import yfinance as yf\n",
        "from sklearn.neural_network import MLPRegressor\n",
        "from sklearn.preprocessing import StandardScaler\n",
        "\n",
        "# Define system variables\n",
        "ticker = 'AAPL'\n",
        "start_date = '2010-01-01'\n",
        "end_date = '2021-09-01'\n",
        "window_size = 30\n",
        "stop_loss_pct = 0.05\n",
        "investment_size = 10000\n",
        "\n",
        "# Load data from Yahoo Finance\n",
        "data = yf.download(ticker, start=start_date, end=end_date)\n",
        "\n",
        "# Calculate energy and entropy\n",
        "data['Returns'] = data['Adj Close'].pct_change()\n",
        "data['Energy'] = data['Returns'].rolling(window_size).apply(lambda x: np.sum(x**2))\n",
        "data['Entropy'] = data['Returns'].rolling(window_size).apply(lambda x: -np.sum(x*np.log(np.abs(x))))\n",
        "data.dropna(inplace=True)\n",
        "\n",
        "# Load news sentiment data\n",
        "#news_sentiment = pd.read_csv('news_sentiment.csv', index_col=0)\n",
        "\n",
        "# Load news sentiment data from Yahoo Finance\n",
        "url = f\"https://finance.yahoo.com/quote/{ticker}/news?from={start_date}&to={end_date}&sort=oldest\"\n",
        "r = requests.get(url)\n",
        "data = r.content.decode('utf-8')\n",
        "df_news = pd.read_html(data)[0]\n",
        "\n",
        "# Clean news sentiment data\n",
        "df_news = df_news[['Date', 'Headlines']]\n",
        "df_news['Date'] = pd.to_datetime(df_news['Date'])\n",
        "df_news.set_index('Date', inplace=True)\n",
        "df_news['Sentiment'] = 0\n",
        "\n",
        "# Merge news sentiment data with stock price data\n",
        "merged_data = pd.merge(data, df_news, left_index=True, right_index=True)\n",
        "\n",
        "\n",
        "\n",
        "\n",
        "\n",
        "# Merge data and news sentiment\n",
        "#merged_data = pd.merge(data, news_sentiment, left_index=True, right_index=True)\n",
        "\n",
        "# Prepare features and target\n",
        "features = merged_data[['Energy', 'Entropy', 'Sentiment']]\n",
        "target = merged_data['Returns'].shift(-1)\n",
        "features.dropna(inplace=True)\n",
        "target.dropna(inplace=True)\n",
        "\n",
        "# Scale features\n",
        "scaler = StandardScaler()\n",
        "scaled_features = scaler.fit_transform(features)\n",
        "\n",
        "# Train neural network\n",
        "nn = MLPRegressor(hidden_layer_sizes=(10, 10), activation='relu', solver='adam', max_iter=5000, random_state=0)\n",
        "nn.fit(scaled_features, target)\n",
        "\n",
        "# Get last day's features\n",
        "last_day_features = scaled_features[-1].reshape(1, -1)\n",
        "\n",
        "# Predict next day's return\n",
        "predicted_return = nn.predict(last_day_features)\n",
        "\n",
        "# Calculate stop-loss\n",
        "stop_loss = data['Adj Close'][-1] * (1 - stop_loss_pct)\n",
        "\n",
        "# Make trading decision based on predicted return and stop-loss\n",
        "if predicted_return > 0 and data['Adj Close'][-1] < stop_loss:\n",
        "    trade = 'Buy'\n",
        "    shares = investment_size / data['Adj Close'][-1]\n",
        "elif predicted_return < 0:\n",
        "    trade = 'Sell'\n",
        "    shares = investment_size / data['Adj Close'][-1]\n",
        "else:\n",
        "    trade = 'Hold'\n",
        "    shares = 0\n",
        "\n",
        "# Print trading decision\n",
        "print(f'Trade: {trade}, Shares: {shares:.2f}, Investment Size: {investment_size:.2f}')\n"
      ]
    }
  ]
}