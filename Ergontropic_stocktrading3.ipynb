{
  "nbformat": 4,
  "nbformat_minor": 0,
  "metadata": {
    "colab": {
      "provenance": [],
      "authorship_tag": "ABX9TyMP6OHK/o63zOG5wXNB7Ma4",
      "include_colab_link": true
    },
    "kernelspec": {
      "name": "python3",
      "display_name": "Python 3"
    },
    "language_info": {
      "name": "python"
    }
  },
  "cells": [
    {
      "cell_type": "markdown",
      "metadata": {
        "id": "view-in-github",
        "colab_type": "text"
      },
      "source": [
        "<a href=\"https://colab.research.google.com/github/mjgpinheiro/Econophysics/blob/main/Ergontropic_stocktrading3.ipynb\" target=\"_parent\"><img src=\"https://colab.research.google.com/assets/colab-badge.svg\" alt=\"Open In Colab\"/></a>"
      ]
    },
    {
      "cell_type": "code",
      "execution_count": 33,
      "metadata": {
        "colab": {
          "base_uri": "https://localhost:8080/"
        },
        "id": "NY_u8palU5pS",
        "outputId": "c34d93af-a53b-43c6-bb53-0a6b44b328ed"
      },
      "outputs": [
        {
          "output_type": "stream",
          "name": "stdout",
          "text": [
            "\r[*********************100%***********************]  1 of 1 completed\n",
            "Trade: Hold, Shares: 0.00, Investment Size: 10000.00\n"
          ]
        },
        {
          "output_type": "stream",
          "name": "stderr",
          "text": [
            "<ipython-input-33-e43b8e0f0b1e>:39: SettingWithCopyWarning: \n",
            "A value is trying to be set on a copy of a slice from a DataFrame.\n",
            "Try using .loc[row_indexer,col_indexer] = value instead\n",
            "\n",
            "See the caveats in the documentation: https://pandas.pydata.org/pandas-docs/stable/user_guide/indexing.html#returning-a-view-versus-a-copy\n",
            "  df_news.loc[:, 'Sentiment'] = 0\n",
            "<ipython-input-33-e43b8e0f0b1e>:42: SettingWithCopyWarning: \n",
            "A value is trying to be set on a copy of a slice from a DataFrame.\n",
            "Try using .loc[row_indexer,col_indexer] = value instead\n",
            "\n",
            "See the caveats in the documentation: https://pandas.pydata.org/pandas-docs/stable/user_guide/indexing.html#returning-a-view-versus-a-copy\n",
            "  df_news.loc[:, 'Energy'] = np.log(len(df_news.Headlines.unique()))\n",
            "/usr/local/lib/python3.9/dist-packages/pandas/core/arraylike.py:397: RuntimeWarning: divide by zero encountered in log\n",
            "  result = getattr(ufunc, method)(*inputs, **kwargs)\n",
            "<ipython-input-33-e43b8e0f0b1e>:45: SettingWithCopyWarning: \n",
            "A value is trying to be set on a copy of a slice from a DataFrame.\n",
            "Try using .loc[row_indexer,col_indexer] = value instead\n",
            "\n",
            "See the caveats in the documentation: https://pandas.pydata.org/pandas-docs/stable/user_guide/indexing.html#returning-a-view-versus-a-copy\n",
            "  df_news.loc[:, 'Entropy'] = -np.sum(df_news['Sentiment'] * np.log(df_news['Sentiment'])) / len(df_news)\n",
            "<ipython-input-33-e43b8e0f0b1e>:55: SettingWithCopyWarning: \n",
            "A value is trying to be set on a copy of a slice from a DataFrame\n",
            "\n",
            "See the caveats in the documentation: https://pandas.pydata.org/pandas-docs/stable/user_guide/indexing.html#returning-a-view-versus-a-copy\n",
            "  features.dropna(inplace=True)\n"
          ]
        }
      ],
      "source": [
        "import pandas as pd\n",
        "import requests\n",
        "import numpy as np\n",
        "import yfinance as yf\n",
        "from sklearn.neural_network import MLPRegressor\n",
        "from sklearn.preprocessing import StandardScaler\n",
        "\n",
        "# Define system variables\n",
        "ticker = 'AAPL'\n",
        "start_date = '2023-03-23'\n",
        "end_date = '2023-03-24'\n",
        "window_size = 30\n",
        "stop_loss_pct = 0.05\n",
        "investment_size = 10000\n",
        "\n",
        "# Download stock price data\n",
        "df_price = yf.download(ticker, start=start_date, end=end_date)\n",
        "\n",
        "# Define system variables\n",
        "api_key = '7f4f6db648674bb8afbcdb7567c7b91d'\n",
        "\n",
        "# Load news data from NewsAPI\n",
        "url = f\"https://newsapi.org/v2/everything?q={ticker}&from={start_date}&to={end_date}&sortBy=popularity&apiKey={api_key}\"\n",
        "r = requests.get(url)\n",
        "data = r.json()['articles']\n",
        "\n",
        "# Convert news data to a pandas DataFrame\n",
        "data_df = pd.DataFrame(data)\n",
        "data_df['publishedAt'] = pd.to_datetime(data_df['publishedAt']).dt.date\n",
        "\n",
        "# Rename columns\n",
        "data_df = data_df.rename(columns={'publishedAt': 'Date', 'title': 'Headlines'})\n",
        "\n",
        "# Clean news data\n",
        "df_news = data_df[['Date', 'Headlines']]\n",
        "df_news.set_index('Date', inplace=True)\n",
        "\n",
        "# Calculate sentiment\n",
        "df_news.loc[:, 'Sentiment'] = 0\n",
        "\n",
        "# Calculate energy analogue\n",
        "df_news.loc[:, 'Energy'] = np.log(len(df_news.Headlines.unique()))\n",
        "\n",
        "# Calculate entropy analogue\n",
        "df_news.loc[:, 'Entropy'] = -np.sum(df_news['Sentiment'] * np.log(df_news['Sentiment'])) / len(df_news)\n",
        "\n",
        "# Merge news data with stock price data\n",
        "merged_data = pd.merge(df_price, df_news, left_index=True, right_index=True, how='outer')\n",
        "merged_data['Sentiment'].fillna(0, inplace=True)\n",
        "merged_data.dropna(inplace=True)\n",
        "\n",
        "# Prepare features and target\n",
        "features = merged_data[['Energy', 'Entropy', 'Sentiment']]\n",
        "target = merged_data['Adj Close'].pct_change().shift(-1)\n",
        "features.dropna(inplace=True)\n",
        "target.dropna(inplace=True)\n",
        "features = features[:-1]\n",
        "# Scale features\n",
        "scaler = StandardScaler()\n",
        "scaled_features = scaler.fit_transform(features)\n",
        "\n",
        "# Train neural network\n",
        "nn = MLPRegressor(hidden_layer_sizes=(10, 10), activation='relu', solver='adam', max_iter=5000, random_state=0)\n",
        "nn.fit(scaled_features, target)\n",
        "\n",
        "# Get last day's features\n",
        "last_day_features = scaled_features[-1].reshape(1, -1)\n",
        "\n",
        "# Predict next day's return\n",
        "predicted_return = nn.predict(last_day_features)\n",
        "\n",
        "# Calculate stop-loss\n",
        "stop_loss = df_price['Adj Close'][-1] * (1 - stop_loss_pct)\n",
        "\n",
        "# Make trading decision based on predicted return and stop-loss\n",
        "if predicted_return > 0 and df_price['Adj Close'][-1] < stop_loss:\n",
        "    trade = 'Buy'\n",
        "    shares = investment_size / df_price['Adj Close'][-1]\n",
        "elif predicted_return < 0:\n",
        "    trade = 'Sell'\n",
        "    shares = investment_size / df_price['Adj Close'][-1]\n",
        "else:\n",
        "    trade = 'Hold'\n",
        "    shares = 0\n",
        "\n",
        "# Print trading decision\n",
        "print(f'Trade: {trade}, Shares: {shares:.2f}, Investment Size: {investment_size:.2f}')\n",
        "\n",
        "\n",
        "\n"
      ]
    }
  ]
}